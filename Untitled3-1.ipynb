{
  "nbformat": 4,
  "nbformat_minor": 0,
  "metadata": {
    "colab": {
      "provenance": [],
      "authorship_tag": "ABX9TyO0h8wcD55O/kJ2BCRENznq",
      "include_colab_link": true
    },
    "kernelspec": {
      "name": "python3",
      "display_name": "Python 3"
    },
    "language_info": {
      "name": "python"
    }
  },
  "cells": [
    {
      "cell_type": "markdown",
      "metadata": {
        "id": "view-in-github",
        "colab_type": "text"
      },
      "source": [
        "<a href=\"https://colab.research.google.com/github/AnishankReddy/AIML_BATCH_19/blob/main/Untitled3-1.ipynb\" target=\"_parent\"><img src=\"https://colab.research.google.com/assets/colab-badge.svg\" alt=\"Open In Colab\"/></a>"
      ]
    },
    {
      "cell_type": "code",
      "execution_count": 1,
      "metadata": {
        "colab": {
          "base_uri": "https://localhost:8080/",
          "height": 211
        },
        "id": "UWdcbbkpMMh-",
        "outputId": "d1e96e1b-0de8-4279-b59e-240c63d89ce7"
      },
      "outputs": [
        {
          "output_type": "error",
          "ename": "TypeError",
          "evalue": "TreeNode() takes no arguments",
          "traceback": [
            "\u001b[0;31m---------------------------------------------------------------------------\u001b[0m",
            "\u001b[0;31mTypeError\u001b[0m                                 Traceback (most recent call last)",
            "\u001b[0;32m<ipython-input-1-e52af4edfff4>\u001b[0m in \u001b[0;36m<cell line: 46>\u001b[0;34m()\u001b[0m\n\u001b[1;32m     44\u001b[0m \u001b[0;34m\u001b[0m\u001b[0m\n\u001b[1;32m     45\u001b[0m \u001b[0mob\u001b[0m \u001b[0;34m=\u001b[0m \u001b[0mSolution\u001b[0m\u001b[0;34m(\u001b[0m\u001b[0;34m)\u001b[0m\u001b[0;34m\u001b[0m\u001b[0;34m\u001b[0m\u001b[0m\n\u001b[0;32m---> 46\u001b[0;31m \u001b[0mroot\u001b[0m \u001b[0;34m=\u001b[0m \u001b[0mTreeNode\u001b[0m\u001b[0;34m(\u001b[0m\u001b[0;36m1\u001b[0m\u001b[0;34m)\u001b[0m\u001b[0;34m\u001b[0m\u001b[0;34m\u001b[0m\u001b[0m\n\u001b[0m\u001b[1;32m     47\u001b[0m \u001b[0mroot\u001b[0m\u001b[0;34m.\u001b[0m\u001b[0mleft\u001b[0m \u001b[0;34m=\u001b[0m \u001b[0mTreeNode\u001b[0m\u001b[0;34m(\u001b[0m\u001b[0;36m2\u001b[0m\u001b[0;34m)\u001b[0m\u001b[0;34m\u001b[0m\u001b[0;34m\u001b[0m\u001b[0m\n\u001b[1;32m     48\u001b[0m \u001b[0mroot\u001b[0m\u001b[0;34m.\u001b[0m\u001b[0mright\u001b[0m \u001b[0;34m=\u001b[0m \u001b[0mTreeNode\u001b[0m\u001b[0;34m(\u001b[0m\u001b[0;36m3\u001b[0m\u001b[0;34m)\u001b[0m\u001b[0;34m\u001b[0m\u001b[0;34m\u001b[0m\u001b[0m\n",
            "\u001b[0;31mTypeError\u001b[0m: TreeNode() takes no arguments"
          ]
        }
      ],
      "source": [
        "class TreeNode:\n",
        "    def _init_(self, data, left=None, right=None):\n",
        "        self.val = data\n",
        "        self.left = left\n",
        "        self.right = right\n",
        "\n",
        "class Solution:\n",
        "    def helper(self, root, h, currentHeight):\n",
        "        if not root:\n",
        "            return\n",
        "        self.helper(root.left, h, currentHeight + 1)\n",
        "        self.helper(root.right, h, currentHeight + 1)\n",
        "        if currentHeight < h:\n",
        "            if currentHeight % 2 == 0:\n",
        "                if root.left and root.right:\n",
        "                    root.val = max(root.left.val, root.right.val)\n",
        "                elif root.left:\n",
        "                    root.val = root.left.val\n",
        "                elif root.right:\n",
        "                    root.val = root.right.val\n",
        "            else:\n",
        "                if root.left and root.right:\n",
        "                    root.val = min(root.left.val, root.right.val)\n",
        "                elif root.left:\n",
        "                    root.val = root.left.val\n",
        "                elif root.right:\n",
        "                    root.val = root.right.val\n",
        "\n",
        "    def height(self, root):\n",
        "        if not root:\n",
        "            return 0\n",
        "        return 1 + max(self.height(root.left), self.height(root.right))\n",
        "\n",
        "    def solve(self, root):\n",
        "        h = self.height(root)\n",
        "        self.helper(root, h, 0)\n",
        "        return root\n",
        "\n",
        "    def print_tree(self, root):\n",
        "        if root is not None:\n",
        "            self.print_tree(root.left)\n",
        "            print(root.val, end=', ')\n",
        "            self.print_tree(root.right)\n",
        "\n",
        "ob = Solution()\n",
        "root = TreeNode(1)\n",
        "root.left = TreeNode(2)\n",
        "root.right = TreeNode(3)\n",
        "root.left.left = TreeNode(10)\n",
        "root.left.right = TreeNode(12)\n",
        "root.right.left = TreeNode(36)\n",
        "root.right.right = TreeNode(25)\n",
        "\n",
        "root = ob.solve(root)\n",
        "\n",
        "print(f\"Min value: {root.left.left.val}\")\n",
        "print(f\"Max value: {root.right.right.val}\")"
      ]
    },
    {
      "cell_type": "code",
      "source": [
        "class TreeNode:\n",
        "    def __init__(self, data, left=None, right=None):\n",
        "        self.val = data\n",
        "        self.left = left\n",
        "        self.right = right\n",
        "\n",
        "class Solution:\n",
        "    def helper(self, root, h, currentHeight):\n",
        "        if not root:\n",
        "            return\n",
        "        self.helper(root.left, h, currentHeight + 1)\n",
        "        self.helper(root.right, h, currentHeight + 1)\n",
        "        if currentHeight < h:\n",
        "            if currentHeight % 2 == 0:\n",
        "                if root.left and root.right:\n",
        "                    root.val = max(root.left.val, root.right.val)\n",
        "                elif root.left:\n",
        "                    root.val = root.left.val\n",
        "                elif root.right:\n",
        "                    root.val = root.right.val\n",
        "            else:\n",
        "                if root.left and root.right:\n",
        "                    root.val = min(root.left.val, root.right.val)\n",
        "                elif root.left:\n",
        "                    root.val = root.left.val\n",
        "                elif root.right:\n",
        "                    root.val = root.right.val\n",
        "\n",
        "    def height(self, root):\n",
        "        if not root:\n",
        "            return 0\n",
        "        return 1 + max(self.height(root.left), self.height(root.right))\n",
        "\n",
        "    def solve(self, root):\n",
        "        h = self.height(root)\n",
        "        self.helper(root, h, 0)\n",
        "        return root\n",
        "\n",
        "    def print_tree(self, root):\n",
        "        if root is not None:\n",
        "            self.print_tree(root.left)\n",
        "            print(root.val, end=', ')\n",
        "            self.print_tree(root.right)\n",
        "\n",
        "ob = Solution()\n",
        "root = TreeNode(1)\n",
        "root.left = TreeNode(2)\n",
        "root.right = TreeNode(3)\n",
        "root.left.left = TreeNode(10)\n",
        "root.left.right = TreeNode(12)\n",
        "root.right.left = TreeNode(36)\n",
        "root.right.right = TreeNode(25)\n",
        "\n",
        "root = ob.solve(root)\n",
        "\n",
        "print(f\"Min value: {root.left.left.val}\")\n",
        "print(f\"Max value: {root.right.right.val}\")\n"
      ],
      "metadata": {
        "colab": {
          "base_uri": "https://localhost:8080/"
        },
        "id": "qxGOMd3vNPib",
        "outputId": "c4d6c4b3-9928-4745-a561-7109d845356f"
      },
      "execution_count": 2,
      "outputs": [
        {
          "output_type": "stream",
          "name": "stdout",
          "text": [
            "Min value: 10\n",
            "Max value: 25\n"
          ]
        }
      ]
    }
  ]
}